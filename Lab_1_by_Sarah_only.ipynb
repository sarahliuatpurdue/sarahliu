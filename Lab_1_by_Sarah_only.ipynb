{
  "nbformat": 4,
  "nbformat_minor": 0,
  "metadata": {
    "colab": {
      "provenance": []
    },
    "kernelspec": {
      "name": "python3",
      "display_name": "Python 3"
    },
    "language_info": {
      "name": "python"
    }
  },
  "cells": [
    {
      "cell_type": "markdown",
      "source": [
        "# MGMT 28800 Business Application Programming - Lab 1 Insturction\n",
        "\n",
        "\n",
        "\n",
        "---\n",
        "\n",
        "Krannert Elementary School is a private elementary school that introduces students, at an early age, to the business world.  Estimating tuition and fee revenues is an important part of the school’s operations.\n",
        "Your task will be to design, write, and implement a Python program that will process the incoming students’ information to determine the expected total tuition and fees that will be collected.  There are several items that go into determining tuition and fees for each student based on the type of student (in-district or out-of-district), whether they are playing on a sports team, lunch options (bringing their own lunch, getting the standard lunch, or the premium lunch), and student status (initial year, graduation year, other).  Details about the various items are as follows:\n",
        "\n",
        "1. Tuition (Code is 1 for in-district and 0 for out-of-district)\n",
        "*   In-district students pay $8,000 for annual tuition\n",
        "\n",
        "*   Out-of-district students pay $9,500 for annual tuition\n",
        "\n",
        "2. Sports (Code is ‘y’ for students playing a sport and ‘n’ if a student isn’t playing a sport)\n",
        "*   Students playing sports are charged an additional $200 sport fee\n",
        "\n",
        "*   Students not playing a sport have no sport fee charged (i.e., $0.00)\n",
        "\n",
        "3. Lunch (Code is 0 for students who bring their own lunch, 1 for students receiving the standard lunch provided by the school, and 2 for students receiving the premium lunch provided by the school)\n",
        "* For students who bring their own lunch, there is no lunch fee (i.e., $0.00)\n",
        "\n",
        "* For students who get the standard lunch, the fee is $900 per year\n",
        "\n",
        "* For students who get the premium lunch, the fee is $1,170 per year\n",
        "\n",
        "4. Student Status (Code is ‘i’ for initial year, ‘g’ for graduation, and ‘o’ for other)\n",
        "* Students in their initial year pay a “start-up” fee of $200 for the administrative setup to get them into the system, provide a locker, etc.\n",
        "\n",
        "* Students in their graduating year pay a graduation fee of $100 to cover the cost of the diploma, cap and gown rental, etc.\n",
        "\n",
        "* Students who are not in their initial year or graduation year have no status fee charged (i.e., $0.00)\n",
        "\n",
        "\n",
        "---\n",
        "\n",
        "\n",
        "\n",
        "\n",
        "\n"
      ],
      "metadata": {
        "id": "LCxYSZZ0FpgW"
      }
    },
    {
      "cell_type": "markdown",
      "source": [
        "As your program executes, it should:\n",
        "1. Prompt the user to enter the information for each student (i.e., the various codes for each student).  Each code should have a separate prompt.  You can assume that the user will input proper codes (i.e., you don’t have to check for errors).\n",
        "2. Based on the information about tuition and codes above, you program should, produce the following totals:\n",
        "\n",
        "\n",
        "* The total tuition\n",
        "* The total fees\n",
        "* The total of the fees and tuition combined\n",
        "* The total number of students who are playing sports\n",
        "* The total number of students bringing their lunch, getting the standard lunch, and getting the premium lunch\n",
        "* The total number of graduating students"
      ],
      "metadata": {
        "id": "vCi1CZfZIYdv"
      }
    },
    {
      "cell_type": "markdown",
      "source": [
        ">*Other considerations:*\n",
        "\n",
        ">> * For this assignment, do not worry about dollar signs for the various tuition/fee totals (although they should be formatted to two decimal points).\n",
        "* You do not know how many students the TA will process when testing your program, so it should correctly handle any number of students.\n",
        "* Make sure to use complete, adequate comments to explain the various parts of your program.\n",
        "* Comments should be complete enough that someone reading JUST THE COMMENTS should be able to ascertain what the written assignment (problem statement) was.\n",
        "* Comments should be complete enough that if your code suddenly turned into a foreign language that the instructor was not familiar with, they could probably re-create your code.\n",
        "* Comments should be complete enough that they would not be able to be adequately applied to another program without modification (e.g., “Compute totals” would be applicable to every program where totals are computed whether it was total sales, number of kittens born, number of people who rode the roller coaster today, etc.)."
      ],
      "metadata": {
        "id": "7980BQS0JDmK"
      }
    },
    {
      "cell_type": "code",
      "source": [
        "#Create a varible with 0 value to aggregate the amount. Since I am supposed to calculate any number of students' tuition and fees, I'll use number of students multiply the corresponding amount fees.\n",
        "#The total number of students for different conditions\n",
        "num_in_district_student = 0\n",
        "num_out_district_student = 0\n",
        "num_sport = 0\n",
        "num_no_sport = 0\n",
        "num_own_lunch = 0\n",
        "num_standard_lunch = 0\n",
        "num_premium_lunch = 0\n",
        "num_initial = 0\n",
        "num_graduating = 0\n",
        "num_otheryear = 0\n",
        "\n",
        "#Ask users to input the students' condition\n",
        "#Since we need to calculate any number of total students, the final total number should be number of student multiply the corresponding tuition and fees\n",
        "#1. State the computing condition for different student type, and calculate the total student number for different condition\n",
        "while True:\n",
        "  print(\"Please enter one students' condition at one time.\")\n",
        "  tuition_type = input(\"Please enter the student's tuition type:\")\n",
        "  sport_type = input(\"Please enter the student's sport type:\")\n",
        "  lunch_type = input(\"Please enter the student's lunch type:\")\n",
        "  status_type = input(\"Please enter the student's status type:\")\n",
        "  if tuition_type == \"1\":\n",
        "    num_in_district_student += 1\n",
        "  elif tuition_type == \"0\":\n",
        "    num_out_district_student += 1\n",
        "  else:\n",
        "    print(\"Please enter the correct tuition type code.(1 for in-district students and 0 for non in-district students)\")\n",
        "  if sport_type == \"y\":\n",
        "    num_sport += 1\n",
        "  elif sport_type == \"n\":\n",
        "    num_no_sport += 1\n",
        "  else:\n",
        "    print(\"Please enter the correct sport type code.(y for students playing sport and n for students not playing sport)\")\n",
        "  if lunch_type == \"0\":\n",
        "    num_own_lunch += 1\n",
        "  elif lunch_type == \"1\":\n",
        "    num_standard_lunch += 1\n",
        "  elif lunch_type == \"2\":\n",
        "    num_premium_lunch += 1\n",
        "  else:\n",
        "    print(\"Please enter the correct lunch type code.(0 for students bring their own lunch, 1 for students receiving standard lunch, and 2 for students receiving premium lunch.)\")\n",
        "  if status_type == \"i\":\n",
        "    num_initial += 1\n",
        "  elif status_type == \"g\":\n",
        "    num_graduating += 1\n",
        "  elif status_type == \"o\":\n",
        "    num_otheryear += 1\n",
        "  else:\n",
        "    print(\"Please enter the correct status type code.(i for students in their initial year, g for students in their graduation year, and o for the rest of the students)\")\n",
        "\n",
        "  end_of_enter = input(\"Do you want to enter another student information? Enter N for stopping and any input for continuing\")\n",
        "  if end_of_enter == \"N\":\n",
        "    break\n",
        "  else:\n",
        "    continue\n",
        "\n",
        "#2. Based on the info of number for each type of students, calculate the total amount tuition and fees for diffent conditions\n",
        "total_tuition = (num_in_district_student * 8000) + (num_out_district_student * 9500)\n",
        "total_sport_fee = num_sport * 200\n",
        "total_lunch_fee = (num_standard_lunch * 900) + (num_premium_lunch * 1170)\n",
        "total_student_status_fee = (num_initial * 200) + (num_graduating * 100)\n",
        "total_fee = total_sport_fee + total_lunch_fee + total_student_status_fee\n",
        "\n",
        "#Total students user have entered\n",
        "num_allstudent = num_in_district_student + num_out_district_student\n",
        "\n",
        "#Result(cross fingers)\n",
        "print(\"You have entered\",num_allstudent, \"students' infomation.\")\n",
        "print(\"Among these students,\",num_in_district_student,\"are in-district students, and\",num_out_district_student,\"are out-district students.\")\n",
        "print(num_sport,\"students play sports, while\",num_no_sport,\"don't.\")\n",
        "print(num_own_lunch,\"students bring their own lunch\",num_standard_lunch,\"receive standard lunch box at school,and\",num_premium_lunch,\"receive premium lunch box at school.\")\n",
        "print(num_initial, \"students are in their first year\",num_graduating,\"are in their graduation year,and \",num_otheryear, \"are neither in their first year nor graduation year.\")\n",
        "\n",
        "print(\"The total amount of tuition is \",total_tuition)\n",
        "print(\"The total amount of tuition and fee is\",total_tuition + total_fee)\n",
        "print(\"The total amount of fee is \",total_fee)\n",
        "print(\"The total amount of sports fee is \",total_sport_fee)\n",
        "print(\"The total amount of lunch fee is \",total_lunch_fee)\n",
        "print(\"The total amount of status fee is \",total_student_status_fee)\n"
      ],
      "metadata": {
        "colab": {
          "base_uri": "https://localhost:8080/"
        },
        "id": "LU1zIaX9Ma3o",
        "outputId": "422224b7-2f48-4436-a8e1-0b35760b3197"
      },
      "execution_count": null,
      "outputs": [
        {
          "output_type": "stream",
          "name": "stdout",
          "text": [
            "Please enter one students' condition at one time.\n",
            "Please enter the student's tuition type:1\n",
            "Please enter the student's sport type:y\n",
            "Please enter the student's lunch type:2\n",
            "Please enter the student's status type:i\n",
            "Do you want to enter another student information? Enter N for stopping and any input for continuingN\n",
            "You have entered 1 students' infomation.\n",
            "Among these students, 1 are in-district students, and 0 are out-district students.\n",
            "1 students play sports, while 0 don't.\n",
            "0 students bring their own lunch 0 receive standard lunch box at school,and 1 receive premium lunch box at school.\n",
            "1 students are in their first year 0 are in their graduation year,and  0 are neither in their first year nor graduation year.\n",
            "The total amount of tuition is  8000\n",
            "The total amount of tuition and fee is 9570\n",
            "The total amount of fee is  1570\n",
            "The total amount of sports fee is  200\n",
            "The total amount of lunch fee is  1170\n",
            "The total amount of status fee is  200\n"
          ]
        }
      ]
    }
  ]
}