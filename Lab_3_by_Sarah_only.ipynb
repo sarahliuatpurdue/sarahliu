{
  "nbformat": 4,
  "nbformat_minor": 0,
  "metadata": {
    "colab": {
      "provenance": []
    },
    "kernelspec": {
      "name": "python3",
      "display_name": "Python 3"
    },
    "language_info": {
      "name": "python"
    }
  },
  "cells": [
    {
      "cell_type": "markdown",
      "source": [
        "**Purpose:**\n",
        "\n",
        "**1. Let school know both the total expected tuition and fees amount they will receive in the future and for current period.**\n",
        "\n",
        "**2. Get the adjustable students data list.**\n",
        "\n",
        "\n",
        "---\n",
        "\n",
        "Steps:\n",
        "\n",
        "1. Ask school user to enter the student information.\n",
        "2. Store the student information into list.\n",
        "2. Calculate the expected total amount of tuition and fees.\n",
        "3. Calculate the tuition and fees for current period."
      ],
      "metadata": {
        "id": "8drAfscaMNCO"
      }
    },
    {
      "cell_type": "code",
      "source": [
        "#List structure(Create blank list to append value one by one)\n",
        "student_name_list = []\n",
        "tuition_type_list = []\n",
        "sport_type_list = []\n",
        "lunch_type_list = []\n",
        "status_type_list = []\n",
        "payment_type_list = []"
      ],
      "metadata": {
        "id": "nN6rO_h1-itu"
      },
      "execution_count": null,
      "outputs": []
    },
    {
      "cell_type": "code",
      "source": [
        "#Define a function to append or delete the value in the list\n",
        "def add_student_data(studentname, tuition, sport, lunch, status, paymentplan):\n",
        "  student_name_list = student_name_list.append(studentname)\n",
        "  index = student_name_list.index(del_name)\n",
        "  tuition_type_list = tuition_type_list.insert(index, tuition)\n",
        "  sport_type_list = sport_type_list.insert(index, sport)\n",
        "  lunch_type_list = lunch_type_list.insert(index, lunch)\n",
        "  status_type_list = status_type_list.insert(index, status)\n",
        "  payment_type_list = payment_type_list.insert(index, paymentplan)\n",
        "\n",
        "def del_student_data():\n",
        "  del_name = input(\"Enter the student's name that you want to delete.\")\n",
        "  index = student_name_list.index(del_name)\n",
        "  student_name_list = student_name_list.pop(index)\n",
        "  tuition_type_list = tuition_type_list.pop(index)\n",
        "  sport_type_list = sport_type_list.pop(index)\n",
        "  lunch_type_list = lunch_type_list.pop(index)\n",
        "  status_type_list = status_type_list.pop(index)\n",
        "  payment_type_list = payment_type_list.pop(index)"
      ],
      "metadata": {
        "id": "vchDGIRlew4D"
      },
      "execution_count": null,
      "outputs": []
    },
    {
      "cell_type": "code",
      "source": [
        "#Defined an amortization computing function(total amount will received in the future)\n",
        "def amortization_payment(principle, interest_rate, n):\n",
        "  amortization_payment =  principle * (((interest_rate / n) * (1 + (interest_rate / n)) ** n)/((1 + (interest_rate / n)) ** n - 1))\n",
        "  return amortization_payment\n",
        "\n",
        "#Defined an amortization computing function(total amount will received for the current period)\n"
      ],
      "metadata": {
        "id": "Q4ONXBPhnMHw"
      },
      "execution_count": null,
      "outputs": []
    },
    {
      "cell_type": "code",
      "source": [
        "#Create variables for storing the amount\n",
        "tuition_amount = 0\n",
        "sport_fee = 0\n",
        "lunch_fee = 0\n",
        "status_fee = 0\n",
        "payment_fee = 0"
      ],
      "metadata": {
        "id": "wVMukJeoh2HS"
      },
      "execution_count": null,
      "outputs": []
    },
    {
      "cell_type": "code",
      "source": [
        "#Define a function to calculating total expected tuition and fees\n",
        "def total_expected_tuiandfee():\n",
        "  tuition_amount = 0\n",
        "  sport_fee = 0\n",
        "  lunch_fee = 0\n",
        "  status_fee = 0\n",
        "  for i in tuition_type_list:\n",
        "    if i == \"1\":\n",
        "      tuition_amount += 8000\n",
        "    elif i == \"0\"\n",
        "      tuition_amount += 9500\n",
        "\n",
        "  for j in sport_type_list:\n",
        "    if j == \"y\":\n",
        "      sport_fee += 200\n",
        "    elif j == \"n\":\n",
        "      sport_fee += 0\n",
        "\n",
        "  for k in lunch_type_list:\n",
        "    if k == \"0\":\n",
        "      lunch_fee += 0\n",
        "    elif k == \"1\":\n",
        "      lunch_fee += 900\n",
        "    elif k == \"2\":\n",
        "      lunch_fee += 1170\n",
        "\n",
        "  for m in status_type_list:\n",
        "    if m == \"i\":\n",
        "      status_fee += 200\n",
        "    elif m == \"g\":\n",
        "      status_fee += 100\n",
        "    elif m == \"o\":\n",
        "      status_fee += 0\n",
        "\n",
        "  total_expected_tuiandfee = tuition_amount + sport_fee + lunch_fee + status_fee\n",
        "  return total_expected_tuiandfee\n",
        "\n",
        "#Count the different payment plan types and multiplied them\n",
        "  w_count = payment_type_list.count(\"w\")\n",
        "  s_count = payment_type_list.count(\"s\")\n",
        "  q_count = payment_type_list.count(\"q\")\n",
        "  m_count = payment_type_list.count(\"m\")\n",
        "\n",
        "  principle = tuition_amount + sport_fee + lunch_fee + status_fee + payment_fee\n",
        "  total_w_tuition = w_count * principle\n",
        "  total_s_tuition = s_count * amortization_payment(principle, 0.1, 0.5)\n",
        "  total_q_tuition = q_count * amortization_payment(principle, 0.1, 0.25)\n",
        "  total_m_tuition = m_count * amortization_payment(principle, 0.1, 1/12)\n"
      ],
      "metadata": {
        "id": "Kl3ikFOrh6o9"
      },
      "execution_count": null,
      "outputs": []
    },
    {
      "cell_type": "code",
      "source": [
        "#Ask user to enter the students' information and store them in the list\n",
        "while True:\n",
        "  student_name = input(\"Please enter the student's name.\")\n",
        "  tuition_type = input(\"Please enter the student's tuition type.\")\n",
        "  sport_type = input(\"Please enter the student's sport type.\")\n",
        "  lunch_type = input(\"Please enter the student's lunch type.\")\n",
        "  status_type = input(\"Please enter the student's status type.\")\n",
        "  payment_plan = input(\"Please enter the student's payment plan.\")\n",
        "  add_student_data(student_name, tuition_type, sport_type, lunch_type, status_type, payment_plan)\n",
        "  add_info = input(\"Do you still want to enter another student's infomation? Enter Y for continue and N for stop\")\n",
        "  if add_info == \"Y\":\n",
        "    continue\n",
        "  elif add_info == \"N\":\n",
        "    break"
      ],
      "metadata": {
        "id": "wdA3tqvYac8q"
      },
      "execution_count": null,
      "outputs": []
    },
    {
      "cell_type": "code",
      "source": [
        "#Calculate the total expected tuition and fee\n",
        "adjust_list = input(\"Enter 'WA' if you want to delete any student before calculate the total expected tuition and fee, enter 'DA' if you don't want to adjust the student list anymore.\")\n",
        "while True:\n",
        "  if adjust_list == \"WA\":\n",
        "    del_student_data()\n",
        "  else:\n",
        "    break\n",
        "\n",
        "\n",
        "\n"
      ],
      "metadata": {
        "id": "egkM2yEHw6ja"
      },
      "execution_count": null,
      "outputs": []
    }
  ]
}