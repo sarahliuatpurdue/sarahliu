{
  "nbformat": 4,
  "nbformat_minor": 0,
  "metadata": {
    "colab": {
      "provenance": []
    },
    "kernelspec": {
      "name": "python3",
      "display_name": "Python 3"
    },
    "language_info": {
      "name": "python"
    }
  },
  "cells": [
    {
      "cell_type": "markdown",
      "source": [
        "**Lab Purpose**\n",
        "\n",
        "The purpose of this lab is to provide experience with Python functions.\n",
        "\n",
        "**Lab Instructions**\n",
        "\n",
        "Now that you are familiar with some of the operations of Krannert Elementary School, you are now going to expand on supporting the school’s operations.\n",
        "Your task will be to design, write, and implement a Python program that will process the incoming students’ information to determine the expected total tuition and fees that will be collected for that student.  You will then also let the student know what their payment(s) will be to cover the cost of tuition/fees based on how they plan to play the amount.\n",
        "\n",
        "As a reminder of the various inputs collected, recall the following:\n",
        "Tuition (Code is 1 for in-district and 0 for out-of-district)\n",
        "\n",
        "1. Tuition (Code is 1 for in-district and 0 for out-of-district)\n",
        "*   In-district students pay $8,000 for annual tuition\n",
        "\n",
        "*   Out-of-district students pay $9,500 for annual tuition\n",
        "\n",
        "2. Sports (Code is ‘y’ for students playing a sport and ‘n’ if a student isn’t playing a sport)\n",
        "*   Students playing sports are charged an additional $200 sport fee\n",
        "\n",
        "*   Students not playing a sport have no sport fee charged (i.e., $0.00)\n",
        "\n",
        "3. Lunch (Code is 0 for students who bring their own lunch, 1 for students receiving the standard lunch provided by the school, and 2 for students receiving the premium lunch provided by the school)\n",
        "* For students who bring their own lunch, there is no lunch fee (i.e., $0.00)\n",
        "\n",
        "* For students who get the standard lunch, the fee is $900 per year\n",
        "\n",
        "* For students who get the premium lunch, the fee is $1,170 per year\n",
        "\n",
        "4. Student Status (Code is ‘i’ for initial year, ‘g’ for graduation, and ‘o’ for other)\n",
        "* Students in their initial year pay a “start-up” fee of $200 for the administrative setup to get them into the system, provide a locker, etc.\n",
        "\n",
        "* Students in their graduating year pay a graduation fee of $100 to cover the cost of the diploma, cap and gown rental, etc.\n",
        "\n",
        "* Students who are not in their initial year or graduation year have no status fee charged (i.e., $0.00)\n",
        "\n",
        "\n",
        "---\n",
        "\n",
        "\n",
        "Once you have determined how much student owes for fees and tuition, you will then need to determine how much the student will pay right now (or per period if they are paying in installments).  Students may pay in whole right now, quarterly (four payments per year), monthly (twelve payments per year), or semi-annually (two payments per year).  See below for payment program details:\n",
        "·       Whole (code ‘w’) – The student just pays the amount owed right now.\n",
        "·       Semi-annually (code ‘s’) – The student makes two payments total for the year.  Because we don’t get all the money up front, there is an interest charge (you’ll need to determine what that interest rate is in your program).\n",
        "·       Quarterly (code ‘q’) – The student makes four payments total for the year.  Because we don’t get all the money up front, there is an interest charge (you’ll need to determine what that interest rate is in your program).\n",
        "·       Monthly (code ‘m’) – The student makes twelve payments total for the year.  Because we don’t get all the money up front, there is an interest charge (you’ll need to determine what that interest rate is in your program).\n",
        "In all situations where the student is not paying the bill in full today, you will need to calculate the per period payment (note that this is what is referred to as an amortized payment amount … this payment includes part of payment as well as part of the interest too).  The formula for calculating an amortized payment amount is:\n",
        "\n",
        "Where i is the periodic interest rate, n is the total number of periods, P is the principal (or total amount owed), and A will be the amortized payment amount (how much the student is going to pay per period of payment).\n",
        "You should create an amortization function to handle the calculation of the amortized payment amount.  The function must receive the principal, the periodic interest rate, and the number of periods of payment an appropriate RETURN usage.  You may not use/create global variables in any of the functions nor use variables that have the same name in the main program as in the function(s) (hint: you will need to use functions with a RETURN and that pass arguments that are stored in parameters).\n",
        "\n",
        "\n",
        "The program will then print out a statement that tells the use that they are paying in whole or that they are paying ‘monthly,’ ‘quarterly,’ or ‘semi-annually’ (based on their selection) and then and how much they owe right now (or per period if they are paying monthly, quarterly, or semi-annually)."
      ],
      "metadata": {
        "id": "KGis7Up4be1Y"
      }
    },
    {
      "cell_type": "markdown",
      "source": [
        "**Goal: let a student know how much does he/she has owed to school so far.**\n",
        "\n",
        "Steps:\n",
        "1. Define a fuction to calculate amortization payment\n",
        "2. Calculate the total tuition and fees for a single student based on he/she condition\n",
        "3. Tell the student how much does he/she has owed to school so far\n"
      ],
      "metadata": {
        "id": "7b5j501_uJy1"
      }
    },
    {
      "cell_type": "code",
      "source": [
        "#Defined an amortization computing function\n",
        "def amortization_semi_annually(principle):\n",
        "  interest_rate = 0.015\n",
        "  n = 2\n",
        "  amortization_payment =  principle * (((interest_rate/2) * (1 + (interest_rate/2)) ** n)/((1 + (interest_rate/2)) ** n - 1))\n",
        "  return amortization_payment\n",
        "\n",
        "def amortization_quarterly(principle):\n",
        "  interest_rate = 0.015\n",
        "  n = 4\n",
        "  amortization_payment =  principle * (((interest_rate/4) * (1 + (interest_rate/4)) ** n)/((1 + (interest_rate/4)) ** n - 1))\n",
        "  return amortization_payment\n",
        "\n",
        "def amortization_monthly(principle):\n",
        "  interest_rate = 0.015\n",
        "  n = 12\n",
        "  amortization_payment =  principle * (((interest_rate/12) * (1 + (interest_rate/12)) ** n)/((1 + (interest_rate/12)) ** n - 1))\n",
        "  return amortization_payment\n"
      ],
      "metadata": {
        "id": "yoG9HI22u9gf"
      },
      "execution_count": null,
      "outputs": []
    },
    {
      "cell_type": "code",
      "source": [
        "#Create variables for storing the amount\n",
        "tuition_amount = 0\n",
        "sport_fee = 0\n",
        "lunch_fee = 0\n",
        "status_fee = 0"
      ],
      "metadata": {
        "id": "LDVFS2nWwhIB"
      },
      "execution_count": null,
      "outputs": []
    },
    {
      "cell_type": "code",
      "source": [
        "#Ask user to enter his/her registeration satus(now we have their total tuition and fees info)\n",
        "tuition_type = input(\"Please enter your tuition type:\")\n",
        "sport_type = input(\"Please enter your sport type:\")\n",
        "lunch_type = input(\"Please enter your lunch type:\")\n",
        "status_type = input(\"Please enter your status type:\")\n",
        "\n",
        "if tuition_type == \"1\":\n",
        "  tuition_amount += 8000\n",
        "elif tuition_type == \"0\":\n",
        "  tuition_amount += 9500\n",
        "\n",
        "if sport_type == \"y\":\n",
        "  sport_fee += 200\n",
        "elif sport_type == \"n\":\n",
        "  sport_fee += 0\n",
        "\n",
        "if lunch_type == \"0\":\n",
        "  lunch_fee += 0\n",
        "elif lunch_type == \"1\":\n",
        "  lunch_fee += 900\n",
        "elif lunch_type == \"2\":\n",
        "  lunch_fee += 1170\n",
        "\n",
        "if status_type == \"i\":\n",
        "  status_fee += 200\n",
        "elif status_type == \"g\":\n",
        "  status_fee += 100\n",
        "elif status_type == \"o\":\n",
        "  status_fee += 0\n",
        "\n",
        "total_fees = sport_fee + lunch_fee + status_fee\n",
        "total_tuition_and_fees = tuition_amount + total_fees\n",
        "\n",
        "print(\"Your tuition is\",tuition_amount)\n",
        "print(\"Your total fee is\",total_fees)\n",
        "print(\"Total amount is\",total_tuition_and_fees)\n"
      ],
      "metadata": {
        "colab": {
          "base_uri": "https://localhost:8080/"
        },
        "id": "XxZeD15Rvjet",
        "outputId": "e82d0660-fd95-445c-c14d-90acc41f2251"
      },
      "execution_count": null,
      "outputs": [
        {
          "output_type": "stream",
          "name": "stdout",
          "text": [
            "Please enter your tuition type:1\n",
            "Please enter your sport type:y\n",
            "Please enter your lunch type:1\n",
            "Please enter your type:i\n",
            "Your tuition is 8000\n",
            "Your total fees is 1300\n",
            "Total amount 9300\n"
          ]
        }
      ]
    },
    {
      "cell_type": "code",
      "source": [
        "#Ask user to enter their payment plan and tell him/she how much does he/she owe\n",
        "payment_plan = input(\"Please enter the detail information of your payment plan.(w for whole,s for semi-annually, q for quarterly, and m for monthly)\")\n",
        "\n",
        "if payment_plan == \"w\":\n",
        "  print(\"You will have to pay\",total_tuition_and_fees,\"right now.\")\n",
        "else:\n",
        "  if payment_plan == \"s\":\n",
        "    total_tuition_and_fees = amortization_semi_annually(total_tuition_and_fees)\n",
        "    print(\"Your payment plan is semi-annual payment.\")\n",
        "    print(\"You will have to pay\",total_tuition_and_fees,\"right now.\")\n",
        "  elif payment_plan == \"q\":\n",
        "    total_tuition_and_fees = amortization_quarterly(total_tuition_and_fees)\n",
        "    print(\"Your payment plan is quarterly payment.\")\n",
        "    print(\"You will have to pay\",total_tuition_and_fees,\"right now.\")\n",
        "  elif payment_plan == \"m\":\n",
        "    total_tuition_and_fees = amortization_monthly(total_tuition_and_fees)\n",
        "    print(\"Your payment plan is monthly payment.\")\n",
        "    print(\"You will have to pay\",total_tuition_and_fees,\"right now.\")\n",
        "\n"
      ],
      "metadata": {
        "colab": {
          "base_uri": "https://localhost:8080/"
        },
        "id": "3jCyihTvwR92",
        "outputId": "e7e1141e-4ba6-4680-9abd-799e275b161a"
      },
      "execution_count": null,
      "outputs": [
        {
          "output_type": "stream",
          "name": "stdout",
          "text": [
            "Please enter the detail information of your payment plan.(w for whole,s for semi-annually, q for quarterly, and m for monthly)s\n",
            "Your payment plan is semi-annual payment.\n",
            "You will have to pay 4702.37764632621 right now.\n"
          ]
        }
      ]
    }
  ]
}