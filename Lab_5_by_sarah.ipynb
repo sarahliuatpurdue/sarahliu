{
  "nbformat": 4,
  "nbformat_minor": 0,
  "metadata": {
    "colab": {
      "provenance": []
    },
    "kernelspec": {
      "name": "python3",
      "display_name": "Python 3"
    },
    "language_info": {
      "name": "python"
    }
  },
  "cells": [
    {
      "cell_type": "code",
      "execution_count": null,
      "metadata": {
        "colab": {
          "base_uri": "https://localhost:8080/"
        },
        "id": "Hoh0acj9Z79b",
        "outputId": "2826e63d-ba6a-4578-8d32-3863eb82bac6"
      },
      "outputs": [
        {
          "output_type": "stream",
          "name": "stdout",
          "text": [
            "Please enter a sentence.Hi this is sarah\n",
            "Do you still want to enter another sentence? Enter 'Yes' to continue and 'No' to stop.y\n",
            "Please enter a sentence.yo yo\n",
            "Do you still want to enter another sentence? Enter 'Yes' to continue and 'No' to stop.n\n",
            "Which sentence do you want to extract a word from?1\n",
            "Which number word do you want to extract?1\n",
            "*********yo*********\n"
          ]
        }
      ],
      "source": [
        "#Importing a module, \"decimal\", for calculating the number of asterisk we need\n",
        "import decimal\n",
        "import math\n",
        "decimal.getcontext().prec=1\n",
        "decimal.getcontext().rounding = \"ROUND_CEILING\"\n",
        "\n",
        "#Creating an empty list to store user's inputs\n",
        "userinput = []\n",
        "\n",
        "#Asking user to enter sentences\n",
        "while True:\n",
        "  s = input(\"Please enter a sentence.\")\n",
        "  userinput.append(s)\n",
        "  s1 = input(\"Do you still want to enter another sentence? Enter 'Yes' to continue and 'No' to stop.\")\n",
        "  if s1.upper() in [\"YES\",\"Y\",\"E\",\"S\"]:\n",
        "    continue\n",
        "  elif s1.upper() in [\"NO\",\"N\",\"O\"]:\n",
        "    break\n",
        "\n",
        "#Spliting the sentences stored as a string into individual words and then store them as a list within the original list\n",
        "for i in range(len(userinput)):\n",
        "  userinput[i] = userinput[i].split()\n",
        "\n",
        "#Asking user which sentence and word does he/she want to extract\n",
        "extracted_sentence_ref = int(input(\"Which sentence do you want to extract a word from?\"))\n",
        "extracted_word_ref = int(input(\"Which number word do you want to extract?\"))\n",
        "\n",
        "#Extracting the corresponding sentence and word\n",
        "extracted_sentence = userinput[extracted_sentence_ref]\n",
        "extracted_word = userinput[extracted_sentence_ref][extracted_word_ref]\n",
        "\n",
        "#Print the word and asterisks with right position\n",
        "#1. Calculating how many characters in the extracted word\n",
        "index_for_extractedword = []\n",
        "for j in range(len(extracted_word)):\n",
        "  index_for_extractedword.append(j)\n",
        "number_of_characters_in_extractedword = int(index_for_extractedword[-1])+1\n",
        "\n",
        "#2. Calculating the remaining blank slots and replacing them with *\n",
        "remaining_character_slots = 20 - number_of_characters_in_extractedword\n",
        "number_of_asterisks_in_single_side = math.ceil(remaining_character_slots / 2)\n",
        "if (remaining_character_slots % 2 == 0) is True:\n",
        "  asterisks_in_the_forward_slots = number_of_asterisks_in_single_side * \"*\"\n",
        "  asterisks_in_the_backward_slots = number_of_asterisks_in_single_side * \"*\"\n",
        "  asterisks_position = asterisks_in_the_forward_slots + extracted_word + asterisks_in_the_backward_slots\n",
        "elif (remaining_character_slots % 2 == 0) is False:\n",
        "  asterisks_in_the_forward_slots = number_of_asterisks_in_single_side * \"*\"\n",
        "  asterisks_in_the_backward_slots = (number_of_asterisks_in_single_side - 1) * \"*\"\n",
        "  asterisks_position = asterisks_in_the_forward_slots + extracted_word + asterisks_in_the_backward_slots\n",
        "\n",
        "#3. Printing the outcome(Crossing fingers ><)\n",
        "print(asterisks_position)\n",
        "\n",
        "#End of the code\n"
      ]
    },
    {
      "cell_type": "code",
      "source": [
        "round(7.6,1)\n",
        "type(7.6)"
      ],
      "metadata": {
        "colab": {
          "base_uri": "https://localhost:8080/"
        },
        "id": "FJwuC7nR3dIf",
        "outputId": "c8a0e20d-19be-46c1-8378-7cdd852646ad"
      },
      "execution_count": null,
      "outputs": [
        {
          "output_type": "execute_result",
          "data": {
            "text/plain": [
              "float"
            ]
          },
          "metadata": {},
          "execution_count": 20
        }
      ]
    },
    {
      "cell_type": "code",
      "source": [
        "type(math.ceil(7.234444))"
      ],
      "metadata": {
        "colab": {
          "base_uri": "https://localhost:8080/"
        },
        "id": "xSEflfnH4on8",
        "outputId": "4741e62d-955c-495c-8a5a-2ce75dc00912"
      },
      "execution_count": null,
      "outputs": [
        {
          "output_type": "execute_result",
          "data": {
            "text/plain": [
              "int"
            ]
          },
          "metadata": {},
          "execution_count": 27
        }
      ]
    },
    {
      "cell_type": "code",
      "source": [
        "import decimal\n",
        "print(decimal.getcontext())"
      ],
      "metadata": {
        "colab": {
          "base_uri": "https://localhost:8080/"
        },
        "id": "TbX5ZBEOD7zl",
        "outputId": "c6174ece-1bac-44dd-eff5-abc3af37ddb2"
      },
      "execution_count": null,
      "outputs": [
        {
          "output_type": "stream",
          "name": "stdout",
          "text": [
            "Context(prec=28, rounding=ROUND_HALF_EVEN, Emin=-999999, Emax=999999, capitals=1, clamp=0, flags=[], traps=[InvalidOperation, DivisionByZero, Overflow])\n"
          ]
        }
      ]
    },
    {
      "cell_type": "code",
      "source": [
        "decimal.getcontext().prec=1\n",
        "decimal.getcontext().rounding = \"ROUND_CEILING\"\n",
        "print(decimal.getcontext())"
      ],
      "metadata": {
        "colab": {
          "base_uri": "https://localhost:8080/"
        },
        "id": "Kz-IaqGjD9NE",
        "outputId": "2d389c2a-f17c-45c3-9b5a-f5ca5d7a0745"
      },
      "execution_count": null,
      "outputs": [
        {
          "output_type": "stream",
          "name": "stdout",
          "text": [
            "Context(prec=1, rounding=ROUND_CEILING, Emin=-999999, Emax=999999, capitals=1, clamp=0, flags=[], traps=[InvalidOperation, DivisionByZero, Overflow])\n"
          ]
        }
      ]
    },
    {
      "cell_type": "code",
      "source": [
        "print(decimal.getcontext())"
      ],
      "metadata": {
        "colab": {
          "base_uri": "https://localhost:8080/"
        },
        "id": "XSGBs-TXE8SJ",
        "outputId": "961d5bbf-df9a-4e80-c912-990b12248d5c"
      },
      "execution_count": null,
      "outputs": [
        {
          "output_type": "stream",
          "name": "stdout",
          "text": [
            "Context(prec=28, rounding=ROUND_HALF_EVEN, Emin=-999999, Emax=999999, capitals=1, clamp=0, flags=[], traps=[InvalidOperation, DivisionByZero, Overflow])\n"
          ]
        }
      ]
    },
    {
      "cell_type": "code",
      "source": [
        "decimal.ROUND_CEILING"
      ],
      "metadata": {
        "colab": {
          "base_uri": "https://localhost:8080/",
          "height": 35
        },
        "id": "gUQ9n_mKEu14",
        "outputId": "616ca05c-8d4b-4b85-da5e-dc4cdd9a9a72"
      },
      "execution_count": null,
      "outputs": [
        {
          "output_type": "execute_result",
          "data": {
            "text/plain": [
              "'ROUND_CEILING'"
            ],
            "application/vnd.google.colaboratory.intrinsic+json": {
              "type": "string"
            }
          },
          "metadata": {},
          "execution_count": 31
        }
      ]
    }
  ]
}